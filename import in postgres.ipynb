{
 "cells": [
  {
   "cell_type": "code",
   "execution_count": 47,
   "metadata": {},
   "outputs": [],
   "source": [
    "import os\n",
    "import netCDF4 as nc4\n",
    "import numpy as np\n",
    "\n",
    "\n",
    "data_path = 'c:/4Hackathon/Data/OLCI Level 1 Level 2/S3A_OL_1_EFR____20161120T112457_20161120T112739_20161120T135747_0161_011_137_1998_MAR_O_NR_002/S3A_OL_1_EFR____20161120T112457_20161120T112739_20161120T135747_0161_011_137_1998_MAR_O_NR_002.SEN3/'\n",
    "rootgrp1 = nc4.Dataset(data_path+\"geo_coordinates.nc\")\n",
    "#rootgrp1.variables.keys()\n",
    "lat = rootgrp1.variables['latitude'][:]\n",
    "lon = rootgrp1.variables['longitude'][:]\n",
    "\n",
    "#rootgrp2 = nc4.Dataset(data_path+\"time_coordinates.nc\")\n",
    "#rootgrp1.variables.keys()\n",
    "#timestamp = rootgrp2.variables['time_stamp'][:]\n",
    "\n",
    "\n",
    "\n"
   ]
  },
  {
   "cell_type": "code",
   "execution_count": 53,
   "metadata": {},
   "outputs": [
    {
     "name": "stdout",
     "output_type": "stream",
     "text": [
      "61.779856\n",
      "49.841704\n"
     ]
    }
   ],
   "source": [
    "print(lat.max())\n",
    "print(lat.min())"
   ]
  },
  {
   "cell_type": "code",
   "execution_count": 44,
   "metadata": {},
   "outputs": [],
   "source": [
    "from io import StringIO\n",
    "import psycopg2\n",
    "cpy = StringIO()\n",
    "\n",
    "for latindex, latitued in enumerate(lat):\n",
    "\n",
    "    a = np.hstack((\n",
    "              lat[latindex].reshape(lat[latindex].size,1),\n",
    "              lon[latindex].reshape(lon[latindex].size,1)\n",
    "    ))\n",
    "\n",
    "    # Fill the cStringIO with text representation of the created array\n",
    "    for row in a:\n",
    "            cpy.write('\\t'.join([str(x) for x in row[0:]]) + '\\n')\n",
    "\n",
    "\n",
    "conn = psycopg2.connect(\"host=localhost dbname=test user=postgres password=test123\")\n",
    "curs = conn.cursor()\n",
    "\n",
    "cpy.seek(0)\n",
    "curs.copy_from(cpy, 'ncdata', columns=('lat', 'lon'))\n",
    "conn.commit()"
   ]
  },
  {
   "cell_type": "code",
   "execution_count": 41,
   "metadata": {
    "collapsed": true
   },
   "outputs": [],
   "source": [
    "rootgrp2.variables[\"time_stamp\"].units\n",
    "dates = num2date(rootgrp2.variables['time_stamp'][:],\n",
    "                 rootgrp2.variables['time_stamp'].units)"
   ]
  },
  {
   "cell_type": "code",
   "execution_count": null,
   "metadata": {
    "collapsed": true
   },
   "outputs": [],
   "source": [
    "dates = num2date(rootgrp.variables['time'][:],units=rootgrp.variables['time'].units)\n",
    "var1=rootgrp.variables['var1']\n",
    "var2=rootgrp.variables['var2']\n",
    "\n",
    "cpy = cStringIO.StringIO()\n",
    "\n",
    "for timeindex, time in enumerate(dates):\n",
    "\n",
    "    validtimes=np.empty(var1[timeindex].size, dtype=\"object\")\n",
    "    validtimes.fill(time)\n",
    "\n",
    "    #  Transponse and stack the arrays of parameters\n",
    "    #    [a,a,a,a]        [[a,b,c],\n",
    "    #    [b,b,b,b]  =>     [a,b,c],\n",
    "    #    [c,c,c,c]         [a,b,c],\n",
    "    #                      [a,b,c]]\n",
    "\n",
    "    a = np.hstack((\n",
    "              validtimes.reshape(validtimes.size,1),\n",
    "              stationnames.reshape(stationnames.size,1),\n",
    "              var1[timeindex].reshape(var1[timeindex].size,1),\n",
    "              var2[timeindex].reshape(var2[timeindex].size,1)\n",
    "    ))\n",
    "\n",
    "    # Fill the cStringIO with text representation of the created array\n",
    "    for row in a:\n",
    "            cpy.write(row[0].strftime(\"%Y-%m-%d %H:%M\")+'\\t'+ row[1] +'\\t' + '\\t'.join([str(x) for x in row[2:]]) + '\\n')\n",
    "\n",
    "\n",
    "conn = psycopg2.connect(\"host=postgresserver dbname=nc user=user password=passwd\")\n",
    "curs = conn.cursor()\n",
    "\n",
    "cpy.seek(0)\n",
    "curs.copy_from(cpy, 'ncdata', columns=('validtime', 'stationname', 'var1', 'var2'))\n",
    "conn.commit()"
   ]
  }
 ],
 "metadata": {
  "anaconda-cloud": {},
  "kernelspec": {
   "display_name": "Python [conda env:py35]",
   "language": "python",
   "name": "conda-env-py35-py"
  },
  "language_info": {
   "codemirror_mode": {
    "name": "ipython",
    "version": 3
   },
   "file_extension": ".py",
   "mimetype": "text/x-python",
   "name": "python",
   "nbconvert_exporter": "python",
   "pygments_lexer": "ipython3",
   "version": "3.5.3"
  }
 },
 "nbformat": 4,
 "nbformat_minor": 2
}
